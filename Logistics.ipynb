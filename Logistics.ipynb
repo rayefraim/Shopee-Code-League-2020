{
 "cells": [
  {
   "cell_type": "code",
   "execution_count": 223,
   "metadata": {},
   "outputs": [],
   "source": [
    "import numpy as np\n",
    "import pandas as pd\n",
    "import time\n",
    "from datetime import datetime"
   ]
  },
  {
   "cell_type": "code",
   "execution_count": 229,
   "metadata": {},
   "outputs": [],
   "source": [
    "order = pd.read_csv(\"delivery_orders_march.csv\")"
   ]
  },
  {
   "cell_type": "code",
   "execution_count": 230,
   "metadata": {
    "scrolled": true
   },
   "outputs": [
    {
     "data": {
      "text/html": [
       "<div>\n",
       "<style scoped>\n",
       "    .dataframe tbody tr th:only-of-type {\n",
       "        vertical-align: middle;\n",
       "    }\n",
       "\n",
       "    .dataframe tbody tr th {\n",
       "        vertical-align: top;\n",
       "    }\n",
       "\n",
       "    .dataframe thead th {\n",
       "        text-align: right;\n",
       "    }\n",
       "</style>\n",
       "<table border=\"1\" class=\"dataframe\">\n",
       "  <thead>\n",
       "    <tr style=\"text-align: right;\">\n",
       "      <th></th>\n",
       "      <th>orderid</th>\n",
       "      <th>pick</th>\n",
       "      <th>1st_deliver_attempt</th>\n",
       "      <th>2nd_deliver_attempt</th>\n",
       "      <th>buyeraddress</th>\n",
       "      <th>selleraddress</th>\n",
       "    </tr>\n",
       "  </thead>\n",
       "  <tbody>\n",
       "    <tr>\n",
       "      <th>0</th>\n",
       "      <td>2215676524</td>\n",
       "      <td>1583138397</td>\n",
       "      <td>1.583385e+09</td>\n",
       "      <td>NaN</td>\n",
       "      <td>Baging ldl BUENAVISTA,PATAG.CAGAYAN Buagsong,c...</td>\n",
       "      <td>Pantranco vill. 417 Warehouse# katipunan 532 (...</td>\n",
       "    </tr>\n",
       "    <tr>\n",
       "      <th>1</th>\n",
       "      <td>2219624609</td>\n",
       "      <td>1583309968</td>\n",
       "      <td>1.583463e+09</td>\n",
       "      <td>1.583799e+09</td>\n",
       "      <td>coloma's quzom CASANAS Site1 Masiyan 533A Stol...</td>\n",
       "      <td>BLDG 210A Moras C42B 2B16,168 church) Complex ...</td>\n",
       "    </tr>\n",
       "    <tr>\n",
       "      <th>2</th>\n",
       "      <td>2220979489</td>\n",
       "      <td>1583306434</td>\n",
       "      <td>1.583460e+09</td>\n",
       "      <td>NaN</td>\n",
       "      <td>21-O LumangDaan,Capitangan,Abucay,Bataan .Bign...</td>\n",
       "      <td>#66 150-C, DRIVE, Milagros Joe socorro Metro M...</td>\n",
       "    </tr>\n",
       "    <tr>\n",
       "      <th>3</th>\n",
       "      <td>2221066352</td>\n",
       "      <td>1583419016</td>\n",
       "      <td>1.583556e+09</td>\n",
       "      <td>NaN</td>\n",
       "      <td>616Espiritu MARTINVILLE,MANUYO #5paraiso kengi...</td>\n",
       "      <td>999maII 201,26 Villaruel Barretto gen.t number...</td>\n",
       "    </tr>\n",
       "    <tr>\n",
       "      <th>4</th>\n",
       "      <td>2222478803</td>\n",
       "      <td>1583318305</td>\n",
       "      <td>1.583480e+09</td>\n",
       "      <td>NaN</td>\n",
       "      <td>L042 Summerbreezee1 L2(Balanay analyn Lot760 C...</td>\n",
       "      <td>G66MANILA Hiyas Fitness MAYSILO magdiwang Lt.4...</td>\n",
       "    </tr>\n",
       "  </tbody>\n",
       "</table>\n",
       "</div>"
      ],
      "text/plain": [
       "      orderid        pick  1st_deliver_attempt  2nd_deliver_attempt  \\\n",
       "0  2215676524  1583138397         1.583385e+09                  NaN   \n",
       "1  2219624609  1583309968         1.583463e+09         1.583799e+09   \n",
       "2  2220979489  1583306434         1.583460e+09                  NaN   \n",
       "3  2221066352  1583419016         1.583556e+09                  NaN   \n",
       "4  2222478803  1583318305         1.583480e+09                  NaN   \n",
       "\n",
       "                                        buyeraddress  \\\n",
       "0  Baging ldl BUENAVISTA,PATAG.CAGAYAN Buagsong,c...   \n",
       "1  coloma's quzom CASANAS Site1 Masiyan 533A Stol...   \n",
       "2  21-O LumangDaan,Capitangan,Abucay,Bataan .Bign...   \n",
       "3  616Espiritu MARTINVILLE,MANUYO #5paraiso kengi...   \n",
       "4  L042 Summerbreezee1 L2(Balanay analyn Lot760 C...   \n",
       "\n",
       "                                       selleraddress  \n",
       "0  Pantranco vill. 417 Warehouse# katipunan 532 (...  \n",
       "1  BLDG 210A Moras C42B 2B16,168 church) Complex ...  \n",
       "2  #66 150-C, DRIVE, Milagros Joe socorro Metro M...  \n",
       "3  999maII 201,26 Villaruel Barretto gen.t number...  \n",
       "4  G66MANILA Hiyas Fitness MAYSILO magdiwang Lt.4...  "
      ]
     },
     "execution_count": 230,
     "metadata": {},
     "output_type": "execute_result"
    }
   ],
   "source": [
    "order.head()"
   ]
  },
  {
   "cell_type": "code",
   "execution_count": 231,
   "metadata": {
    "scrolled": true
   },
   "outputs": [],
   "source": [
    "order[\"1st_deliver_attempt\"] = order[\"1st_deliver_attempt\"].astype(\"int\")\n",
    "order['2nd_deliver_attempt'].fillna(0,inplace=True)\n",
    "order[\"2nd_deliver_attempt\"] = order[\"2nd_deliver_attempt\"].astype(\"int\")"
   ]
  },
  {
   "cell_type": "code",
   "execution_count": 232,
   "metadata": {},
   "outputs": [],
   "source": [
    "order[\"pick\"] = order[\"pick\"].apply(lambda x: datetime.fromtimestamp(x))\n",
    "order[\"1st_deliver_attempt\"] = order[\"1st_deliver_attempt\"].apply(lambda x: datetime.fromtimestamp(x))\n",
    "order[\"2nd_deliver_attempt\"] = order[\"2nd_deliver_attempt\"].apply(lambda x: datetime.fromtimestamp(x))"
   ]
  },
  {
   "cell_type": "code",
   "execution_count": 234,
   "metadata": {},
   "outputs": [],
   "source": [
    "def check_city(item):\n",
    "    if \"metro manila\" in item.lower():\n",
    "        return(\"Metro Manila\")\n",
    "    elif \"luzon\" in item.lower():\n",
    "        return(\"Luzon\")\n",
    "    elif \"visayas\" in item.lower():\n",
    "        return(\"Visayas\")\n",
    "    elif \"mindanao\" in item.lower():\n",
    "        return(\"Mindanao\")"
   ]
  },
  {
   "cell_type": "code",
   "execution_count": 235,
   "metadata": {},
   "outputs": [],
   "source": [
    "order[\"buyeraddress\"] = order[\"buyeraddress\"].apply(check_city)\n",
    "order[\"selleraddress\"] = order[\"selleraddress\"].apply(check_city)"
   ]
  },
  {
   "cell_type": "code",
   "execution_count": 236,
   "metadata": {},
   "outputs": [],
   "source": [
    "def check_sla(order):\n",
    "    if order[\"buyeraddress\"] == \"Metro Manila\" and order[\"selleraddress\"] == \"Metro Manila\":\n",
    "        return(3)\n",
    "    elif order[\"buyeraddress\"] == \"Metro Manila\" and order[\"selleraddress\"] == \"Luzon\":\n",
    "        return(5)\n",
    "    elif order[\"buyeraddress\"] == \"Luzon\" and order[\"selleraddress\"] == \"Metro Manila\":\n",
    "        return(5)\n",
    "    elif order[\"buyeraddress\"] == \"Luzon\" and order[\"selleraddress\"] == \"Luzon\":\n",
    "        return(5)\n",
    "    else:\n",
    "        return(7)"
   ]
  },
  {
   "cell_type": "code",
   "execution_count": 237,
   "metadata": {},
   "outputs": [],
   "source": [
    "order[\"sla\"] = order.apply(check_sla,axis=1)"
   ]
  },
  {
   "cell_type": "code",
   "execution_count": 281,
   "metadata": {},
   "outputs": [],
   "source": [
    "def check_late(order):\n",
    "    duration = np.busday_count(order[\"pick\"].date(),order[\"1st_deliver_attempt\"].date(),weekmask=\"1111110\",holidays=[\"2020-03-08\",\"2020-03-25\",\"2020-03-30\",\"2020-03-31\"])\n",
    "    duration2 = np.busday_count(order[\"1st_deliver_attempt\"].date(),order[\"2nd_deliver_attempt\"].date(),weekmask=\"1111110\",holidays=[\"2020-03-08\",\"2020-03-25\",\"2020-03-30\",\"2020-03-31\"])\n",
    "    # 1 attempt\n",
    "    if order[\"2nd_deliver_attempt\"] == \"1970-01-01 07:00:00\":\n",
    "        if duration > order[\"sla\"]:\n",
    "            return(1)\n",
    "        else:\n",
    "            return(0)\n",
    "    # 2 Attempt\n",
    "    else:\n",
    "        # 1st attempt late\n",
    "        if duration > order[\"sla\"]:\n",
    "            return(1)\n",
    "        #1st attempt not late\n",
    "        else:\n",
    "            #2nd attempt late\n",
    "            if duration2 > 3:\n",
    "                return(1)\n",
    "            #2nd attempt not late\n",
    "            else:\n",
    "                return(0)"
   ]
  },
  {
   "cell_type": "code",
   "execution_count": 286,
   "metadata": {},
   "outputs": [
    {
     "data": {
      "text/html": [
       "<div>\n",
       "<style scoped>\n",
       "    .dataframe tbody tr th:only-of-type {\n",
       "        vertical-align: middle;\n",
       "    }\n",
       "\n",
       "    .dataframe tbody tr th {\n",
       "        vertical-align: top;\n",
       "    }\n",
       "\n",
       "    .dataframe thead th {\n",
       "        text-align: right;\n",
       "    }\n",
       "</style>\n",
       "<table border=\"1\" class=\"dataframe\">\n",
       "  <thead>\n",
       "    <tr style=\"text-align: right;\">\n",
       "      <th></th>\n",
       "      <th>orderid</th>\n",
       "      <th>pick</th>\n",
       "      <th>1st_deliver_attempt</th>\n",
       "      <th>2nd_deliver_attempt</th>\n",
       "      <th>buyeraddress</th>\n",
       "      <th>selleraddress</th>\n",
       "      <th>sla</th>\n",
       "    </tr>\n",
       "  </thead>\n",
       "  <tbody>\n",
       "    <tr>\n",
       "      <th>0</th>\n",
       "      <td>2215676524</td>\n",
       "      <td>2020-03-02 15:39:57</td>\n",
       "      <td>2020-03-05 12:09:18</td>\n",
       "      <td>1970-01-01 07:00:00</td>\n",
       "      <td>Metro Manila</td>\n",
       "      <td>Metro Manila</td>\n",
       "      <td>3</td>\n",
       "    </tr>\n",
       "    <tr>\n",
       "      <th>1</th>\n",
       "      <td>2219624609</td>\n",
       "      <td>2020-03-04 15:19:28</td>\n",
       "      <td>2020-03-06 09:53:56</td>\n",
       "      <td>2020-03-10 07:02:56</td>\n",
       "      <td>Metro Manila</td>\n",
       "      <td>Metro Manila</td>\n",
       "      <td>3</td>\n",
       "    </tr>\n",
       "    <tr>\n",
       "      <th>2</th>\n",
       "      <td>2220979489</td>\n",
       "      <td>2020-03-04 14:20:34</td>\n",
       "      <td>2020-03-06 08:56:19</td>\n",
       "      <td>1970-01-01 07:00:00</td>\n",
       "      <td>Metro Manila</td>\n",
       "      <td>Metro Manila</td>\n",
       "      <td>3</td>\n",
       "    </tr>\n",
       "    <tr>\n",
       "      <th>3</th>\n",
       "      <td>2221066352</td>\n",
       "      <td>2020-03-05 21:36:56</td>\n",
       "      <td>2020-03-07 11:45:41</td>\n",
       "      <td>1970-01-01 07:00:00</td>\n",
       "      <td>Metro Manila</td>\n",
       "      <td>Metro Manila</td>\n",
       "      <td>3</td>\n",
       "    </tr>\n",
       "    <tr>\n",
       "      <th>4</th>\n",
       "      <td>2222478803</td>\n",
       "      <td>2020-03-04 17:38:25</td>\n",
       "      <td>2020-03-06 14:41:40</td>\n",
       "      <td>1970-01-01 07:00:00</td>\n",
       "      <td>Luzon</td>\n",
       "      <td>Metro Manila</td>\n",
       "      <td>5</td>\n",
       "    </tr>\n",
       "  </tbody>\n",
       "</table>\n",
       "</div>"
      ],
      "text/plain": [
       "      orderid                pick 1st_deliver_attempt 2nd_deliver_attempt  \\\n",
       "0  2215676524 2020-03-02 15:39:57 2020-03-05 12:09:18 1970-01-01 07:00:00   \n",
       "1  2219624609 2020-03-04 15:19:28 2020-03-06 09:53:56 2020-03-10 07:02:56   \n",
       "2  2220979489 2020-03-04 14:20:34 2020-03-06 08:56:19 1970-01-01 07:00:00   \n",
       "3  2221066352 2020-03-05 21:36:56 2020-03-07 11:45:41 1970-01-01 07:00:00   \n",
       "4  2222478803 2020-03-04 17:38:25 2020-03-06 14:41:40 1970-01-01 07:00:00   \n",
       "\n",
       "   buyeraddress selleraddress  sla  \n",
       "0  Metro Manila  Metro Manila    3  \n",
       "1  Metro Manila  Metro Manila    3  \n",
       "2  Metro Manila  Metro Manila    3  \n",
       "3  Metro Manila  Metro Manila    3  \n",
       "4         Luzon  Metro Manila    5  "
      ]
     },
     "execution_count": 286,
     "metadata": {},
     "output_type": "execute_result"
    }
   ],
   "source": [
    "order.head()"
   ]
  },
  {
   "cell_type": "code",
   "execution_count": 283,
   "metadata": {},
   "outputs": [],
   "source": [
    "late = order.apply(check_late,axis=1)"
   ]
  },
  {
   "cell_type": "code",
   "execution_count": 287,
   "metadata": {},
   "outputs": [],
   "source": [
    "submit = pd.DataFrame({\n",
    "    \"orderid\" : order[\"orderid\"],\n",
    "    \"is_late\" : late\n",
    "})"
   ]
  },
  {
   "cell_type": "code",
   "execution_count": 291,
   "metadata": {},
   "outputs": [
    {
     "data": {
      "text/plain": [
       "0    0.759826\n",
       "1    0.240174\n",
       "Name: is_late, dtype: float64"
      ]
     },
     "execution_count": 291,
     "metadata": {},
     "output_type": "execute_result"
    }
   ],
   "source": [
    "submit[\"is_late\"].value_counts(normalize=True)"
   ]
  },
  {
   "cell_type": "code",
   "execution_count": 292,
   "metadata": {},
   "outputs": [],
   "source": [
    "submit.to_csv(\"submit.csv\", index=False)"
   ]
  },
  {
   "cell_type": "code",
   "execution_count": 293,
   "metadata": {},
   "outputs": [
    {
     "data": {
      "text/html": [
       "<div>\n",
       "<style scoped>\n",
       "    .dataframe tbody tr th:only-of-type {\n",
       "        vertical-align: middle;\n",
       "    }\n",
       "\n",
       "    .dataframe tbody tr th {\n",
       "        vertical-align: top;\n",
       "    }\n",
       "\n",
       "    .dataframe thead th {\n",
       "        text-align: right;\n",
       "    }\n",
       "</style>\n",
       "<table border=\"1\" class=\"dataframe\">\n",
       "  <thead>\n",
       "    <tr style=\"text-align: right;\">\n",
       "      <th></th>\n",
       "      <th>orderid</th>\n",
       "      <th>is_late</th>\n",
       "    </tr>\n",
       "  </thead>\n",
       "  <tbody>\n",
       "    <tr>\n",
       "      <th>0</th>\n",
       "      <td>2215676524</td>\n",
       "      <td>0</td>\n",
       "    </tr>\n",
       "    <tr>\n",
       "      <th>1</th>\n",
       "      <td>2219624609</td>\n",
       "      <td>0</td>\n",
       "    </tr>\n",
       "    <tr>\n",
       "      <th>2</th>\n",
       "      <td>2220979489</td>\n",
       "      <td>0</td>\n",
       "    </tr>\n",
       "    <tr>\n",
       "      <th>3</th>\n",
       "      <td>2221066352</td>\n",
       "      <td>0</td>\n",
       "    </tr>\n",
       "    <tr>\n",
       "      <th>4</th>\n",
       "      <td>2222478803</td>\n",
       "      <td>0</td>\n",
       "    </tr>\n",
       "    <tr>\n",
       "      <th>...</th>\n",
       "      <td>...</td>\n",
       "      <td>...</td>\n",
       "    </tr>\n",
       "    <tr>\n",
       "      <th>3176308</th>\n",
       "      <td>31504087640510</td>\n",
       "      <td>0</td>\n",
       "    </tr>\n",
       "    <tr>\n",
       "      <th>3176309</th>\n",
       "      <td>31504147352227</td>\n",
       "      <td>0</td>\n",
       "    </tr>\n",
       "    <tr>\n",
       "      <th>3176310</th>\n",
       "      <td>31504462290482</td>\n",
       "      <td>0</td>\n",
       "    </tr>\n",
       "    <tr>\n",
       "      <th>3176311</th>\n",
       "      <td>31504851495943</td>\n",
       "      <td>0</td>\n",
       "    </tr>\n",
       "    <tr>\n",
       "      <th>3176312</th>\n",
       "      <td>31505199116340</td>\n",
       "      <td>0</td>\n",
       "    </tr>\n",
       "  </tbody>\n",
       "</table>\n",
       "<p>3176313 rows × 2 columns</p>\n",
       "</div>"
      ],
      "text/plain": [
       "                orderid  is_late\n",
       "0            2215676524        0\n",
       "1            2219624609        0\n",
       "2            2220979489        0\n",
       "3            2221066352        0\n",
       "4            2222478803        0\n",
       "...                 ...      ...\n",
       "3176308  31504087640510        0\n",
       "3176309  31504147352227        0\n",
       "3176310  31504462290482        0\n",
       "3176311  31504851495943        0\n",
       "3176312  31505199116340        0\n",
       "\n",
       "[3176313 rows x 2 columns]"
      ]
     },
     "execution_count": 293,
     "metadata": {},
     "output_type": "execute_result"
    }
   ],
   "source": [
    "submit"
   ]
  },
  {
   "cell_type": "code",
   "execution_count": null,
   "metadata": {},
   "outputs": [],
   "source": []
  },
  {
   "cell_type": "code",
   "execution_count": null,
   "metadata": {},
   "outputs": [],
   "source": []
  }
 ],
 "metadata": {
  "kernelspec": {
   "display_name": "Python 3",
   "language": "python",
   "name": "python3"
  },
  "language_info": {
   "codemirror_mode": {
    "name": "ipython",
    "version": 3
   },
   "file_extension": ".py",
   "mimetype": "text/x-python",
   "name": "python",
   "nbconvert_exporter": "python",
   "pygments_lexer": "ipython3",
   "version": "3.7.4"
  }
 },
 "nbformat": 4,
 "nbformat_minor": 2
}
